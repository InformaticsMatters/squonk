{
 "cells": [
  {
   "cell_type": "markdown",
   "metadata": {},
   "source": [
    "# Executing Squonk services\n",
    "\n",
    "This notebook is an example of executing Squonk services using Python's requests module.\n",
    "\n",
    "It assumes you are executing against the JobExector service running in an OpenShift environment."
   ]
  },
  {
   "cell_type": "code",
   "execution_count": 113,
   "metadata": {},
   "outputs": [],
   "source": [
    "import requests\n",
    "import json\n",
    "\n",
    "# requests_toolbelt module is used to handle the multipart responses.\n",
    "# Need to `pip install requests-toolbelt` from a terminal to install. This might need doing each time the Notebook pod starts\n",
    "from requests_toolbelt.multipart import decoder"
   ]
  },
  {
   "cell_type": "code",
   "execution_count": 158,
   "metadata": {},
   "outputs": [],
   "source": [
    "# Define some URLs and params\n",
    "base_url = 'https://jobexecutor.prod.openrisknet.org/jobexecutor/rest'\n",
    "services_url = base_url + '/v1/services'\n",
    "jobexecutor_url = base_url + '/v1/jobs'\n",
    "keycloak_url = 'https://sso.prod.openrisknet.org/auth/realms/openrisknet/protocol/openid-connect/token'\n",
    "\n",
    "# set to False if self signed certificates are being used\n",
    "tls_verify=True"
   ]
  },
  {
   "cell_type": "markdown",
   "metadata": {},
   "source": [
    "## Check basic operation"
   ]
  },
  {
   "cell_type": "code",
   "execution_count": 160,
   "metadata": {},
   "outputs": [
    {
     "name": "stdout",
     "output_type": "stream",
     "text": [
      "Requesting GET https://jobexecutor.prod.openrisknet.org/jobexecutor/rest/ping\n",
      "Response Code: 200\n",
      "OK\n"
     ]
    }
   ],
   "source": [
    "# Test the PING service. Should give a 200 response and return 'OK'.\n",
    "# If not then nothing else is going to work.\n",
    "\n",
    "url = base_url + '/ping'\n",
    "\n",
    "print(\"Requesting GET \" + url)\n",
    "resp = requests.get(url, verify=tls_verify)\n",
    "print('Response Code: ' + str(resp.status_code))\n",
    "print(resp.text)"
   ]
  },
  {
   "cell_type": "markdown",
   "metadata": {},
   "source": [
    "## Authentication"
   ]
  },
  {
   "cell_type": "code",
   "execution_count": 58,
   "metadata": {},
   "outputs": [
    {
     "name": "stdin",
     "output_type": "stream",
     "text": [
      "Username user1\n",
      "Password ···········\n"
     ]
    }
   ],
   "source": [
    "# Need to specify your Keycloak SSO username and password so that we can get a token\n",
    "\n",
    "import getpass\n",
    "username = input('Username')\n",
    "password = getpass.getpass('Password')"
   ]
  },
  {
   "cell_type": "code",
   "execution_count": 147,
   "metadata": {},
   "outputs": [
    {
     "data": {
      "text/plain": [
       "'eyJhbGciOiJSUzI1NiIsInR5cCIgOiAiSldUIiwia2lkIiA6ICJoX2p2Z3I3bWZ4VGJ3OHJLNW9Fb3dWWUVHUms2Z0hsLW9sSjdPUnQ3V2QwIn0.eyJqdGkiOiJmNmU3ZmJhMi04Yzk3LTQxOGUtYTNjZC0zNjMxMGNmODQ0MTIiLCJleHAiOjE1NTY3MjcyMDAsIm5iZiI6MCwiaWF0IjoxNTU2NzIzNjAwLCJpc3MiOiJodHRwczovL3Nzby5wcm9kLm9wZW5yaXNrbmV0Lm9yZy9hdXRoL3JlYWxtcy9vcGVucmlza25ldCIsImF1ZCI6InNxdW9uay1qb2JleGVjdXRvciIsInN1YiI6IjVjOTZjYjMwLTliY2ItNDY2ZS05ODk1LTY2ZDA4Zjk2YTczNSIsInR5cCI6IkJlYXJlciIsImF6cCI6InNxdW9uay1qb2JleGVjdXRvciIsImF1dGhfdGltZSI6MCwic2Vzc2lvbl9zdGF0ZSI6IjE5Yzk0ZWUxLWVmMzAtNDRlNS1hMDVkLTliMzlhODQwN2JlNCIsImFjciI6IjEiLCJhbGxvd2VkLW9yaWdpbnMiOlsiaHR0cDovL2pvYmV4ZWN1dG9yLnByb2Qub3BlbnJpc2tuZXQub3JnIiwiaHR0cHM6Ly9qb2JleGVjdXRvci5wcm9kLm9wZW5yaXNrbmV0Lm9yZyJdLCJyZWFsbV9hY2Nlc3MiOnsicm9sZXMiOlsic3RhbmRhcmQtdXNlciIsInVtYV9hdXRob3JpemF0aW9uIl19LCJyZXNvdXJjZV9hY2Nlc3MiOnsiYWNjb3VudCI6eyJyb2xlcyI6WyJtYW5hZ2UtYWNjb3VudCIsIm1hbmFnZS1hY2NvdW50LWxpbmtzIiwidmlldy1wcm9maWxlIl19fSwibmFtZSI6IlVzZXIgT25lIiwicHJlZmVycmVkX3VzZXJuYW1lIjoidXNlcjEiLCJnaXZlbl9uYW1lIjoiVXNlciIsImZhbWlseV9uYW1lIjoiT25lIn0.TeVtmEYdU76e6XDoES0oWNBZT4T6PTx3nGO_dbRS_6h_9oHlEt6DVyLObCNmKw4Cvj6fsfemtSj2tPZVT3x5Wml04KnbOcp1OhAHIx89kZ98iZ9-o6nxlDQfUlRKjBD6BYAPcEHipUcdhDj9pCL97l6kQjxTCux0RdG7lgP9r0NPaswgicOIjdE-meA_pu0eQkdh_UJZVhPVviR0eoCbDC1UGS1PL3R-YyZwaqgc7i1L9pcymN1dOjhLs3BOqlp0mpI8haH07Jdo1X7IMWZuf_vzmLKq9sDIbD1OAC2CZ0CdtWrzMYSnQ-mw1sFTRbfieJAtdxC7wnObl7T0F76pFA'"
      ]
     },
     "execution_count": 147,
     "metadata": {},
     "output_type": "execute_result"
    }
   ],
   "source": [
    "# Get token from Keycloak. This will have a finite lifetime.\n",
    "# If your requests are getting a 401 error your token has probably expired.\n",
    "\n",
    "client_secret = '2043fe6e-6f62-4845-81d2-39e2e67f312a'\n",
    "data = {'grant_type': 'password', 'client_id': 'squonk-jobexecutor', 'username': username, 'password': password}\n",
    "kresp = requests.post(keycloak_url, data = data)\n",
    "j = kresp.json()\n",
    "token = j['access_token']\n",
    "token"
   ]
  },
  {
   "cell_type": "markdown",
   "metadata": {},
   "source": [
    "## List all services"
   ]
  },
  {
   "cell_type": "code",
   "execution_count": 161,
   "metadata": {},
   "outputs": [
    {
     "name": "stdout",
     "output_type": "stream",
     "text": [
      "Requesting GET https://jobexecutor.prod.openrisknet.org/jobexecutor/rest/v1/services\n",
      "Response Code: 200\n",
      "75 services found\n",
      "[{'id': 'cdk.dataset.convert.molecule.format', 'name': 'Convert molecule format', 'description': 'Convert molecule format'}, {'id': 'pipelines.pli.v1', 'name': 'PLI docking scoring', 'description': 'PLI docking scoring'}, {'id': 'chemaxon.calculators.verify', 'name': 'Verify structure (ChemAxon)', 'description': 'Verify structure (ChemAxon)'}, {'id': 'cdk.donors_acceptors', 'name': 'HBA & HBD (CDK)', 'description': 'HBA & HBD (CDK)'}, {'id': 'pipelines.rdkit.maxminpicker.simple.1', 'name': 'RDKitMaxMinPickerSimple', 'description': 'RDKitMaxMinPickerSimple'}, {'id': 'chemaxon.calculators.logd', 'name': 'LogD (CXN)', 'description': 'LogD (CXN)'}, {'id': 'chemaxon.calculators.bpka', 'name': 'Basic pKa (CXN)', 'description': 'Basic pKa (CXN)'}, {'id': 'chemaxon.calculators.druglikefilter', 'name': 'Drug-like Filter (CXN)', 'description': 'Drug-like Filter (CXN)'}, {'id': 'cdk.export.sdf', 'name': 'SDF Export (CDK)', 'description': 'SDF Export (CDK)'}, {'id': 'chemaxon.calculators.logp', 'name': 'LogP (CXN)', 'description': 'LogP (CXN)'}, {'id': 'chemaxon.calculators.logs', 'name': 'LogS (CXN)', 'description': 'LogS (CXN)'}, {'id': 'chemaxon.calculators.ghosefilter', 'name': 'Ghose Filter (CXN)', 'description': 'Ghose Filter (CXN)'}, {'id': 'cdk.wiener_numbers', 'name': 'Wiener Numbers (CDK)', 'description': 'Wiener Numbers (CDK)'}, {'id': 'pipelines.xchem.smarts_filter.reaction', 'name': 'XChemReactionSmartsFilter', 'description': 'XChemReactionSmartsFilter'}, {'id': 'pipelines.docking.rdock.basic.v2', 'name': 'rDock docking', 'description': 'rDock docking'}, {'id': 'chemaxon.clustering.sperex', 'name': 'SpereEx Clustering (CXN)', 'description': 'SpereEx Clustering (CXN)'}, {'id': 'rdkit.calculators.rotatable_bonds', 'name': 'Rotatable bonds (RDKit)', 'description': 'Rotatable bonds (RDKit)'}, {'id': 'pipelines.xchem.sanify.standardise.flatkinson.v1', 'name': 'FlatkinsonStandardiser', 'description': 'FlatkinsonStandardiser'}, {'id': 'rdkit.chemcentral.search.similarity', 'name': 'ChemCentral similarity search', 'description': 'ChemCentral similarity search'}, {'id': 'ocl.psa', 'name': 'PSA (OpenChemLib)', 'description': 'PSA (OpenChemLib)'}, {'id': 'rdkit.calculators.formal_charge', 'name': 'Formal Charge (RDKit)', 'description': 'Formal Charge (RDKit)'}, {'id': 'pipelines.rdkit.o3da.basic', 'name': 'RDKitOpen3DAlign', 'description': 'RDKitOpen3DAlign'}, {'id': 'chemaxon.calculators.lipinski', 'name': 'Lipinski (CXN)', 'description': 'Lipinski (CXN)'}, {'id': 'cdk.logp', 'name': 'LogP (CDK)', 'description': 'LogP (CDK)'}, {'id': 'chemaxon.calculators.veberfilter', 'name': 'Veber Filter (CXN)', 'description': 'Veber Filter (CXN)'}, {'id': 'pipelines.rdkit.cluster.butina', 'name': 'RDKitButinaClustering', 'description': 'RDKitButinaClustering'}, {'id': 'rdkit.calculators.frac_c_sp3', 'name': 'Frac sp3 C (RDKit)', 'description': 'Frac sp3 C (RDKit)'}, {'id': 'core.dataset.uuidfilter.v1', 'name': 'DatasetUUIDFilter', 'description': 'DatasetUUIDFilter'}, {'id': 'rdkit.calculators.ghose', 'name': 'Ghose filter (RDKit)', 'description': 'Ghose filter (RDKit)'}, {'id': 'pipelines.dmpk.sygnature.tmax_cmax_sim.1', 'name': 'TmaxCmaxSimulation', 'description': 'TmaxCmaxSimulation'}, {'id': 'chemaxon.calculators.cnsMpo', 'name': 'CNS MPO (CXN)', 'description': 'CNS MPO (CXN)'}, {'id': 'rdkit.calculators.canonical_smiles', 'name': 'Canonical Smiles (RDKit)', 'description': 'Canonical Smiles (RDKit)'}, {'id': 'rdkit.calculators.donors_acceptors', 'name': 'HBA & HBD (RDKit)', 'description': 'HBA & HBD (RDKit)'}, {'id': 'core.dataset.filter.slice.v1', 'name': 'Dataset slice selector', 'description': 'Dataset slice selector'}, {'id': 'chemaxon.calculators.atomcount', 'name': 'Atom Count (CXN)', 'description': 'Atom Count (CXN)'}, {'id': 'rdkit.calculators.molar_refractivity', 'name': 'Molar Refractivity (RDKit)', 'description': 'Molar Refractivity (RDKit)'}, {'id': 'pipelines.rdkit.maxminpicker.enrich.1', 'name': 'RDKitMaxMinPickerEnrich', 'description': 'RDKitMaxMinPickerEnrich'}, {'id': 'core.dataset.merger.v1', 'name': 'DatasetMerger', 'description': 'DatasetMerger'}, {'id': 'chemaxon.calculators.reosfilter', 'name': 'REOS (CXN)', 'description': 'REOS (CXN)'}, {'id': 'pipelines.rdkit.screen.multi', 'name': 'RDKitMultiSimilarityScreening', 'description': 'RDKitMultiSimilarityScreening'}, {'id': 'rdkit.calculators.logp', 'name': 'LogP (RDKit)', 'description': 'LogP (RDKit)'}, {'id': 'rdkit.calculators.rings', 'name': 'Ring Count (RDKit)', 'description': 'Ring Count (RDKit)'}, {'id': 'pipelines.xchem.sanify.enumerate.v1', 'name': 'MoleculeEnumerator', 'description': 'MoleculeEnumerator'}, {'id': 'pipelines.rdkit.sucos.basic', 'name': 'RDKitSuCOS', 'description': 'RDKitSuCOS'}, {'id': 'rdkit.calculators.tpsa', 'name': 'TPSA (RDKit)', 'description': 'TPSA (RDKit)'}, {'id': 'chemaxon.calculators.apka', 'name': 'Acidic pKa (CXN)', 'description': 'Acidic pKa (CXN)'}, {'id': 'ocl.calculators.verify', 'name': 'Verify structure (OCL)', 'description': 'Verify structure (OCL)'}, {'id': 'core.dataset.filter.random.v1', 'name': 'Dataset random selector', 'description': 'Dataset random selector'}, {'id': 'chemaxon.screening.pharmacophore', 'name': 'Pharmacophore Screen (CXN)', 'description': 'Pharmacophore Screen (CXN)'}, {'id': 'pipelines.rdkit.conformer.constrained', 'name': 'RDKitConstrainedConformers', 'description': 'RDKitConstrainedConformers'}, {'id': 'core.dataset.enricher.v1', 'name': 'DatasetEnricher', 'description': 'DatasetEnricher'}, {'id': 'rdkit.chemcentral.multisearch', 'name': 'ChemCentral multi search', 'description': 'ChemCentral multi search'}, {'id': 'chemaxon.screening.ecpf4', 'name': 'ECFP4 Screen (CXN)', 'description': 'ECFP4 Screen (CXN)'}, {'id': 'rdkit.calculators.reos', 'name': 'REOS (RDKit)', 'description': 'REOS (RDKit)'}, {'id': 'rdkit.calculators.veber', 'name': 'Veber filter (RDKit)', 'description': 'Veber filter (RDKit)'}, {'id': 'rdkit.chemcentral.search.structure', 'name': 'ChemCentral structure search', 'description': 'ChemCentral structure search'}, {'id': 'smartcyp.predict', 'name': 'SMARTCyp', 'description': 'SMARTCyp'}, {'id': 'pipelines.rdkit.cluster.butina.matrix.v1', 'name': 'RDKitClusterMatrix', 'description': 'RDKitClusterMatrix'}, {'id': 'pipelines.rdkit.screen.basic', 'name': 'RDKitSimilarityScreening', 'description': 'RDKitSimilarityScreening'}, {'id': 'pipelines.xchem.obabel.prepare.pdb.v1', 'name': 'OBabelPreparePDB', 'description': 'OBabelPreparePDB'}, {'id': 'rdkit.calculators.ruleofthree', 'name': 'Rule of 3 (RDKit)', 'description': 'Rule of 3 (RDKit)'}, {'id': 'pipelines.docking.smog2016.v1', 'name': 'SMoG2016 docking scoring', 'description': 'SMoG2016 docking scoring'}, {'id': 'pipelines.xchem.pbf_ev.v1', 'name': 'PBF EV analyisis', 'description': 'PBF EV analyisis'}, {'id': 'chemaxon.calculators.kidsMpo', 'name': 'KiDS MPO (CXN)', 'description': 'KiDS MPO (CXN)'}, {'id': 'cdk.calculators.verify', 'name': 'Verify structure (CDK)', 'description': 'Verify structure (CDK)'}, {'id': 'pipelines.rdkit.cluster.subsetpicker.simple', 'name': 'RDKitDiverseSubsetPicker', 'description': 'RDKitDiverseSubsetPicker'}, {'id': 'rdkit.calculators.lipinski', 'name': 'Lipinski (RDKit)', 'description': 'Lipinski (RDKit)'}, {'id': 'pipelines.xchem.reaction.maker.v1', 'name': 'XChemReactionMaker', 'description': 'XChemReactionMaker'}, {'id': 'chemaxon.calculators.ruleofthreefilter', 'name': 'Rule of 3 Filter (CXN)', 'description': 'Rule of 3 Filter (CXN)'}, {'id': 'ocl.logp', 'name': 'LogP (OpenChemLib)', 'description': 'LogP (OpenChemLib)'}, {'id': 'ocl.logs', 'name': 'LogS (OpenChemLib)', 'description': 'LogS (OpenChemLib)'}, {'id': 'pipelines.xchem.sanify.standardise.molvs.v1', 'name': 'MolVSStandardiser', 'description': 'MolVSStandardiser'}, {'id': 'docker.generic.dataset.v1', 'name': 'GenericDockerProcessDataset', 'description': 'GenericDockerProcessDataset'}, {'id': 'rdkit.calculators.verify', 'name': 'Verify structure (RDKit)', 'description': 'Verify structure (RDKit)'}, {'id': 'pipelines.rdkit.conformer.basic', 'name': 'RDKitConformers', 'description': 'RDKitConformers'}]\n"
     ]
    }
   ],
   "source": [
    "# Get a list of all the Squonk services that can be executed.\n",
    "# \n",
    "\n",
    "print(\"Requesting GET \" + services_url)\n",
    "jobs_resp = requests.get(services_url, headers={'Authorization':  'bearer ' + token}, verify=tls_verify)\n",
    "print('Response Code: ' + str(jobs_resp.status_code))\n",
    "json = jobs_resp.json()\n",
    "print(str(len(json)) + \" services found\")\n",
    "print(json)"
   ]
  },
  {
   "cell_type": "markdown",
   "metadata": {},
   "source": [
    "## Getting details of a particular service"
   ]
  },
  {
   "cell_type": "code",
   "execution_count": 162,
   "metadata": {},
   "outputs": [
    {
     "name": "stdout",
     "output_type": "stream",
     "text": [
      "Requesting GET https://jobexecutor.prod.openrisknet.org/jobexecutor/rest/v1/services/core.dataset.filter.slice.v1\n",
      "Response Code: 200\n",
      "{'id': 'core.dataset.filter.slice.v1', 'name': 'Dataset slice selector', 'description': 'Generate a defined slice of the dataset', 'tags': ['filter', 'slice', 'dataset'], 'icon': 'icons/filter.png', 'inputDescriptors': [{'name': 'input', 'mediaType': 'application/x-squonk-dataset-basic+json', 'primaryType': 'org.squonk.dataset.Dataset', 'secondaryType': 'org.squonk.types.BasicObject'}], 'outputDescriptors': [{'name': 'output', 'mediaType': 'application/x-squonk-dataset-basic+json', 'primaryType': 'org.squonk.dataset.Dataset', 'secondaryType': 'org.squonk.types.BasicObject'}], 'optionDescriptors': [{'@class': 'org.squonk.options.OptionDescriptor', 'typeDescriptor': {'@class': 'org.squonk.options.SimpleTypeDescriptor', 'type': 'java.lang.Integer'}, 'key': 'skip', 'label': 'Number to skip', 'description': 'The number of records to skip', 'visible': True, 'editable': True, 'minValues': 1, 'maxValues': 1, 'modes': ['User']}, {'@class': 'org.squonk.options.OptionDescriptor', 'typeDescriptor': {'@class': 'org.squonk.options.SimpleTypeDescriptor', 'type': 'java.lang.Integer'}, 'key': 'count', 'label': 'Number to include', 'description': 'The number of records to include after skipping', 'visible': True, 'editable': True, 'minValues': 1, 'maxValues': 1, 'modes': ['User']}], 'status': 'ACTIVE', 'statusLastChecked': 1556286671899, 'executorClassName': 'org.squonk.execution.steps.impl.DatasetSelectSliceStep'}\n"
     ]
    }
   ],
   "source": [
    "# find the service ID from the list in the list services cell\n",
    "service_id = 'core.dataset.filter.slice.v1'\n",
    "#service_id = 'pipelines.rdkit.conformer.basic'\n",
    "\n",
    "url = services_url + '/' + service_id\n",
    "print(\"Requesting GET \" + url)\n",
    "jobs_resp = requests.get(url, headers={'Authorization':  'bearer ' + token}, verify=tls_verify)\n",
    "print('Response Code: ' + str(jobs_resp.status_code))\n",
    "json = jobs_resp.json()\n",
    "print(json)"
   ]
  },
  {
   "cell_type": "markdown",
   "metadata": {},
   "source": [
    "## List all jobs"
   ]
  },
  {
   "cell_type": "code",
   "execution_count": 163,
   "metadata": {},
   "outputs": [
    {
     "name": "stdout",
     "output_type": "stream",
     "text": [
      "Requesting GET https://jobexecutor.prod.openrisknet.org/jobexecutor/rest/v1/jobs\n",
      "Response Code: 200\n",
      "0 jobs found\n"
     ]
    }
   ],
   "source": [
    "# Result of the request is an array of JobStatus objects.\n",
    "# The job ID and status are listed\n",
    "\n",
    "print(\"Requesting GET \" + jobexecutor_url)\n",
    "jobs_resp = requests.get(jobexecutor_url, headers={'Authorization':  'bearer ' + token}, verify=tls_verify)\n",
    "print('Response Code: ' + str(jobs_resp.status_code))\n",
    "json = jobs_resp.json()\n",
    "print(str(len(json)) + \" jobs found\")\n",
    "for status in json:\n",
    "    print(status['jobId'] + ' ' + status['status'])"
   ]
  },
  {
   "cell_type": "markdown",
   "metadata": {},
   "source": [
    "## Execute the 'Dataset Slice' service"
   ]
  },
  {
   "cell_type": "code",
   "execution_count": 174,
   "metadata": {},
   "outputs": [
    {
     "name": "stdout",
     "output_type": "stream",
     "text": [
      "Requesting POST https://jobexecutor.prod.openrisknet.org/jobexecutor/rest/v1/jobs\n",
      "Response Code: 201\n",
      "{'jobId': '9eafab4e-d5b1-4727-8e6c-b9ec900e071d', 'username': 'user1', 'status': 'RUNNING', 'totalCount': 0, 'processedCount': 0, 'errorCount': 0, 'started': 1556724535794, 'completed': None, 'jobDefinition': {'@class': 'org.squonk.jobdef.ExternalJobDefinition', 'serviceDescriptor': {'@class': 'org.squonk.core.DefaultServiceDescriptor', 'serviceConfig': {'id': 'core.dataset.filter.slice.v1', 'name': 'Dataset slice selector', 'description': 'Generate a defined slice of the dataset', 'tags': ['filter', 'slice', 'dataset'], 'icon': 'icons/filter.png', 'inputDescriptors': [{'name': 'input', 'mediaType': 'application/x-squonk-dataset-basic+json', 'primaryType': 'org.squonk.dataset.Dataset', 'secondaryType': 'org.squonk.types.BasicObject'}], 'outputDescriptors': [{'name': 'output', 'mediaType': 'application/x-squonk-dataset-basic+json', 'primaryType': 'org.squonk.dataset.Dataset', 'secondaryType': 'org.squonk.types.BasicObject'}], 'optionDescriptors': [{'@class': 'org.squonk.options.OptionDescriptor', 'typeDescriptor': {'@class': 'org.squonk.options.SimpleTypeDescriptor', 'type': 'java.lang.Integer'}, 'key': 'skip', 'label': 'Number to skip', 'description': 'The number of records to skip', 'visible': True, 'editable': True, 'minValues': 1, 'maxValues': 1, 'modes': ['User']}, {'@class': 'org.squonk.options.OptionDescriptor', 'typeDescriptor': {'@class': 'org.squonk.options.SimpleTypeDescriptor', 'type': 'java.lang.Integer'}, 'key': 'count', 'label': 'Number to include', 'description': 'The number of records to include after skipping', 'visible': True, 'editable': True, 'minValues': 1, 'maxValues': 1, 'modes': ['User']}], 'status': 'ACTIVE', 'statusLastChecked': 1556286671899, 'executorClassName': 'org.squonk.execution.steps.impl.DatasetSelectSliceStep'}}, 'options': {'skip': 2, 'count': 3}, 'jobId': '9eafab4e-d5b1-4727-8e6c-b9ec900e071d'}, 'events': []}\n",
      "\n",
      "JobID: 9eafab4e-d5b1-4727-8e6c-b9ec900e071d\n"
     ]
    }
   ],
   "source": [
    "# The 'Datast slice' takes a slice through a dataset specified by the number of records to skip and then the number to include.\n",
    "# This is one of Squonk's 'internal' services.\n",
    "# The job ID is stored in the job_id variable.\n",
    "\n",
    "url = jobexecutor_url + '/core.dataset.filter.slice.v1'\n",
    "\n",
    "data = {\n",
    "    'options': '{\"skip\":2,\"count\":3}',\n",
    "    'input_data': ('input_data', open('nci10_data.json', 'rb'), 'application/x-squonk-molecule-object+json'),\n",
    "    'input_metadata': ('input_metadata', open('nci10_meta.json', 'rb'), 'application/x-squonk-dataset-metadata+json')\n",
    "}\n",
    "\n",
    "print(\"Requesting POST \" + jobexecutor_url)\n",
    "jobs_resp = requests.post(url, files=data, headers = {'Authorization':  'bearer ' + token, 'Content-Type': 'multipart/form'}, verify=tls_verify)\n",
    "print('Response Code: ' + str(jobs_resp.status_code))\n",
    "job_status = jobs_resp.json()\n",
    "job_id = job_status['jobId']\n",
    "print(job_status)\n",
    "print(\"\\nJobID: \" + job_id)"
   ]
  },
  {
   "cell_type": "markdown",
   "metadata": {},
   "source": [
    "## Get the status of the current job"
   ]
  },
  {
   "cell_type": "code",
   "execution_count": 175,
   "metadata": {},
   "outputs": [
    {
     "name": "stdout",
     "output_type": "stream",
     "text": [
      "Requesting GET https://jobexecutor.prod.openrisknet.org/jobexecutor/rest/v1/jobs/9eafab4e-d5b1-4727-8e6c-b9ec900e071d/status\n",
      "Response Code: 200\n"
     ]
    },
    {
     "data": {
      "text/plain": [
       "{'jobId': '9eafab4e-d5b1-4727-8e6c-b9ec900e071d',\n",
       " 'username': 'user1',\n",
       " 'status': 'RESULTS_READY',\n",
       " 'totalCount': 0,\n",
       " 'processedCount': -3,\n",
       " 'errorCount': -3,\n",
       " 'started': 1556724535794,\n",
       " 'completed': 1556724536085,\n",
       " 'jobDefinition': {'@class': 'org.squonk.jobdef.ExternalJobDefinition',\n",
       "  'serviceDescriptor': {'@class': 'org.squonk.core.DefaultServiceDescriptor',\n",
       "   'serviceConfig': {'id': 'core.dataset.filter.slice.v1',\n",
       "    'name': 'Dataset slice selector',\n",
       "    'description': 'Generate a defined slice of the dataset',\n",
       "    'tags': ['filter', 'slice', 'dataset'],\n",
       "    'icon': 'icons/filter.png',\n",
       "    'inputDescriptors': [{'name': 'input',\n",
       "      'mediaType': 'application/x-squonk-dataset-basic+json',\n",
       "      'primaryType': 'org.squonk.dataset.Dataset',\n",
       "      'secondaryType': 'org.squonk.types.BasicObject'}],\n",
       "    'outputDescriptors': [{'name': 'output',\n",
       "      'mediaType': 'application/x-squonk-dataset-basic+json',\n",
       "      'primaryType': 'org.squonk.dataset.Dataset',\n",
       "      'secondaryType': 'org.squonk.types.BasicObject'}],\n",
       "    'optionDescriptors': [{'@class': 'org.squonk.options.OptionDescriptor',\n",
       "      'typeDescriptor': {'@class': 'org.squonk.options.SimpleTypeDescriptor',\n",
       "       'type': 'java.lang.Integer'},\n",
       "      'key': 'skip',\n",
       "      'label': 'Number to skip',\n",
       "      'description': 'The number of records to skip',\n",
       "      'visible': True,\n",
       "      'editable': True,\n",
       "      'minValues': 1,\n",
       "      'maxValues': 1,\n",
       "      'modes': ['User']},\n",
       "     {'@class': 'org.squonk.options.OptionDescriptor',\n",
       "      'typeDescriptor': {'@class': 'org.squonk.options.SimpleTypeDescriptor',\n",
       "       'type': 'java.lang.Integer'},\n",
       "      'key': 'count',\n",
       "      'label': 'Number to include',\n",
       "      'description': 'The number of records to include after skipping',\n",
       "      'visible': True,\n",
       "      'editable': True,\n",
       "      'minValues': 1,\n",
       "      'maxValues': 1,\n",
       "      'modes': ['User']}],\n",
       "    'status': 'ACTIVE',\n",
       "    'statusLastChecked': 1556286671899,\n",
       "    'executorClassName': 'org.squonk.execution.steps.impl.DatasetSelectSliceStep'}},\n",
       "  'options': {'skip': 2, 'count': 3},\n",
       "  'jobId': '9eafab4e-d5b1-4727-8e6c-b9ec900e071d'},\n",
       " 'events': ['Results ready']}"
      ]
     },
     "execution_count": 175,
     "metadata": {},
     "output_type": "execute_result"
    }
   ],
   "source": [
    "# The job is defined by the job_id variable and is probably the last job executed\n",
    "url = jobexecutor_url + '/' + job_id + '/status'\n",
    "print(\"Requesting GET \" + url )\n",
    "jobs_resp = requests.get(url, headers={'Authorization':  'bearer ' + token}, verify=tls_verify)\n",
    "print('Response Code: ' + str(jobs_resp.status_code))\n",
    "json = jobs_resp.json()\n",
    "json"
   ]
  },
  {
   "cell_type": "markdown",
   "metadata": {},
   "source": [
    "## Get the results of a job. "
   ]
  },
  {
   "cell_type": "code",
   "execution_count": 176,
   "metadata": {},
   "outputs": [
    {
     "name": "stdout",
     "output_type": "stream",
     "text": [
      "Requesting GET https://jobexecutor.prod.openrisknet.org/jobexecutor/rest/v1/jobs/9eafab4e-d5b1-4727-8e6c-b9ec900e071d/results\n",
      "Response Code: 200\n",
      "b'{\"jobId\":\"9eafab4e-d5b1-4727-8e6c-b9ec900e071d\",\"username\":\"user1\",\"status\":\"RESULTS_READY\",\"totalCount\":0,\"processedCount\":-3,\"errorCount\":-3,\"started\":1556724535794,\"completed\":1556724536085,\"jobDefinition\":{\"@class\":\"org.squonk.jobdef.ExternalJobDefinition\",\"serviceDescriptor\":{\"@class\":\"org.squonk.core.DefaultServiceDescriptor\",\"serviceConfig\":{\"id\":\"core.dataset.filter.slice.v1\",\"name\":\"Dataset slice selector\",\"description\":\"Generate a defined slice of the dataset\",\"tags\":[\"filter\",\"slice\",\"dataset\"],\"icon\":\"icons/filter.png\",\"inputDescriptors\":[{\"name\":\"input\",\"mediaType\":\"application/x-squonk-dataset-basic+json\",\"primaryType\":\"org.squonk.dataset.Dataset\",\"secondaryType\":\"org.squonk.types.BasicObject\"}],\"outputDescriptors\":[{\"name\":\"output\",\"mediaType\":\"application/x-squonk-dataset-basic+json\",\"primaryType\":\"org.squonk.dataset.Dataset\",\"secondaryType\":\"org.squonk.types.BasicObject\"}],\"optionDescriptors\":[{\"@class\":\"org.squonk.options.OptionDescriptor\",\"typeDescriptor\":{\"@class\":\"org.squonk.options.SimpleTypeDescriptor\",\"type\":\"java.lang.Integer\"},\"key\":\"skip\",\"label\":\"Number to skip\",\"description\":\"The number of records to skip\",\"visible\":true,\"editable\":true,\"minValues\":1,\"maxValues\":1,\"modes\":[\"User\"]},{\"@class\":\"org.squonk.options.OptionDescriptor\",\"typeDescriptor\":{\"@class\":\"org.squonk.options.SimpleTypeDescriptor\",\"type\":\"java.lang.Integer\"},\"key\":\"count\",\"label\":\"Number to include\",\"description\":\"The number of records to include after skipping\",\"visible\":true,\"editable\":true,\"minValues\":1,\"maxValues\":1,\"modes\":[\"User\"]}],\"status\":\"ACTIVE\",\"statusLastChecked\":1556286671899,\"executorClassName\":\"org.squonk.execution.steps.impl.DatasetSelectSliceStep\"}},\"options\":{\"skip\":2,\"count\":3},\"jobId\":\"9eafab4e-d5b1-4727-8e6c-b9ec900e071d\"},\"events\":[\"Results ready\"]}'\n",
      "{b'Content-Type': b'text/plain', b'Content-Transfer-Encoding': b'8bit'}\n",
      "b'{\"type\":\"org.squonk.types.MoleculeObject\",\"size\":3}'\n",
      "{b'Content-Type': b'application/x-squonk-dataset-metadata+json', b'Content-Transfer-Encoding': b'7bit', b'Content-Disposition': b'attachment; filename=output_metadata'}\n",
      "b'[{\"uuid\":\"9077e1c3-d0fc-4e93-9081-ed2714abafc0\",\"source\":\"OC1=C(Cl)C=C(C=C1[N+]([O-])=O)[N+]([O-])=O\",\"format\":\"smiles\",\"values\":{\"Name\":\"3\"}},{\"uuid\":\"323a0cd0-400f-4806-8a9d-914601fad27f\",\"source\":\"[O-][N+](=O)C1=CNC(=N)S1\",\"format\":\"smiles\",\"values\":{\"Name\":\"4\"}},{\"uuid\":\"03418bcb-672c-47ab-a3c1-a1eb3a13e00d\",\"source\":\"NC1=CC2=C(C=C1)C(=O)C3=C(C=CC=C3)C2=O\",\"format\":\"smiles\",\"values\":{\"Name\":\"5\"}}]'\n",
      "{b'Content-Type': b'application/x-squonk-molecule-object+json', b'Content-Transfer-Encoding': b'7bit', b'Content-Disposition': b'attachment; filename=output_output.data.gz'}\n"
     ]
    }
   ],
   "source": [
    "# The job is defined by the job_id variable and is probably the last job executed.\n",
    "# The status of the job needs to be 'RESULTS_READY'\n",
    "# The response is a multipart response, typically containing the job status, the results metadata and the results data.\n",
    "# This method can be called for a job any number of times until the job is deleted.\n",
    "\n",
    "url = jobexecutor_url + '/' + job_id + '/results'\n",
    "print(\"Requesting GET \" + url )\n",
    "jobs_resp = requests.get(url, headers={'Authorization':  'bearer ' + token}, verify=tls_verify)\n",
    "print('Response Code: ' + str(jobs_resp.status_code))\n",
    "multipart_data = decoder.MultipartDecoder.from_response(jobs_resp)\n",
    "for part in multipart_data.parts:\n",
    "    print(part.content)\n",
    "    print(part.headers)"
   ]
  },
  {
   "cell_type": "markdown",
   "metadata": {},
   "source": [
    "## Delete the job"
   ]
  },
  {
   "cell_type": "code",
   "execution_count": 167,
   "metadata": {},
   "outputs": [
    {
     "name": "stdout",
     "output_type": "stream",
     "text": [
      "Requesting DELETE https://jobexecutor.prod.openrisknet.org/jobexecutor/rest/v1/jobs/bd2ffe5b-3ad0-4e65-9ddb-d1a2c3bebb58\n",
      "Response Code: 200\n",
      "Job deleted\n"
     ]
    }
   ],
   "source": [
    "#  Once you have fetched the results you MUST delete the job.\n",
    "# The job is defined by the job_id variable and is probably the last job executed.\n",
    "\n",
    "url = jobexecutor_url + '/' + job_id\n",
    "print(\"Requesting DELETE \" + url)\n",
    "jobs_resp = requests.delete(url, headers={'Authorization':  'bearer ' + token}, verify=tls_verify)\n",
    "print('Response Code: ' + str(jobs_resp.status_code))\n",
    "json = jobs_resp.json()\n",
    "if 'status' in json and json['status'] == 'COMPLETED':\n",
    "    print('Job deleted')\n",
    "else:\n",
    "    print('Problem deleting job')"
   ]
  },
  {
   "cell_type": "markdown",
   "metadata": {},
   "source": [
    "##  Delete all jobs\n",
    "This is to help clean up if you get into a mess!"
   ]
  },
  {
   "cell_type": "code",
   "execution_count": 173,
   "metadata": {},
   "outputs": [
    {
     "name": "stdout",
     "output_type": "stream",
     "text": [
      "Response Code: 200\n",
      "Found 0 jobs\n"
     ]
    }
   ],
   "source": [
    "# Delete all jobs\n",
    "\n",
    "# First get the current jobs\n",
    "jobs_resp = requests.get(jobexecutor_url, headers={'Authorization':  'bearer ' + token}, verify=tls_verify)\n",
    "print('Response Code: ' + str(jobs_resp.status_code))\n",
    "json = jobs_resp.json()\n",
    "print('Found ' + str(len(json)) + ' jobs')\n",
    "\n",
    "# Now go through them and delete\n",
    "# If successful the status of the job will then be COMPLETED.\n",
    "for job in json:\n",
    "    id = job['jobId']\n",
    "    url = jobexecutor_url + '/' + id\n",
    "    print(\"Deleting \" + url)\n",
    "    jobs_resp = requests.delete(url, headers={'Authorization':  'bearer ' + token}, verify=tls_verify)\n",
    "    j = jobs_resp.json()\n",
    "    print(\"Status: \" + j['status'])"
   ]
  },
  {
   "cell_type": "markdown",
   "metadata": {},
   "source": [
    "## Other services\n",
    "\n",
    "In addition to the simple 'dataset slice' service many more meaningful ones are available.\n",
    "\n",
    "Here are some examples illustrating the different categories of Squonk services:\n",
    "\n",
    "1. Built in services running within the job executor Java process. These are limited to very simple and very fast operations\n",
    "1. HTTP services running in the chemservices module that stream results and are designed for relatively short term execution (seconds or at most a few minutes) with the results being streamed immediately back to the requester.\n",
    "1. Services running in a Docker container given the input data as files and writing the results as files. These are designed for more flexible implementation of services that can take longer to execute.\n",
    "1. Nextflow services. Similar to Docker services, but defined as a Nextflow workflow that typically allows parallel execution on the K8S cluster or potentionally on an external cluster.\n",
    "\n",
    "Execute one of these instead of the dataset slice one above."
   ]
  },
  {
   "cell_type": "code",
   "execution_count": 169,
   "metadata": {},
   "outputs": [
    {
     "name": "stdout",
     "output_type": "stream",
     "text": [
      "Requesting POST https://jobexecutor.prod.openrisknet.org/jobexecutor/rest/v1/jobs/rdkit.calculators.lipinski\n",
      "Response Code: 201\n",
      "{'jobId': '372e15df-2933-4e93-8cde-c898b51f3449', 'username': 'user1', 'status': 'RUNNING', 'totalCount': 0, 'processedCount': 0, 'errorCount': 0, 'started': 1556724484825, 'completed': None, 'jobDefinition': {'@class': 'org.squonk.jobdef.ExternalJobDefinition', 'serviceDescriptor': {'@class': 'org.squonk.core.HttpServiceDescriptor', 'serviceConfig': {'id': 'rdkit.calculators.lipinski', 'name': 'Lipinski (RDKit)', 'description': 'Lipinski rule of 5 filter using RDKit', 'tags': ['lipinski', 'ruleoffive', 'ro5', 'hbond', 'donors', 'acceptors', 'logp', 'molecularweight', 'druglike', 'molecularproperties', 'filter', 'rdkit'], 'resourceUrl': '/docs/cells/Lipinski%20filter%20(RDKit)/', 'icon': 'icons/filter_molecules.png', 'inputDescriptors': [{'name': 'input', 'mediaType': 'application/x-squonk-dataset-molecule+json', 'primaryType': 'org.squonk.dataset.Dataset', 'secondaryType': 'org.squonk.types.MoleculeObject'}], 'outputDescriptors': [{'name': 'output', 'mediaType': 'application/x-squonk-dataset-molecule+json', 'primaryType': 'org.squonk.dataset.Dataset', 'secondaryType': 'org.squonk.types.MoleculeObject'}], 'optionDescriptors': [{'@class': 'org.squonk.options.OptionDescriptor', 'typeDescriptor': {'@class': 'org.squonk.options.SimpleTypeDescriptor', 'type': 'java.lang.String'}, 'key': 'query.filterMode', 'label': 'Filter mode', 'description': 'How to filter results', 'values': ['INCLUDE_PASS', 'INCLUDE_FAIL', 'INCLUDE_ALL'], 'defaultValue': 'INCLUDE_PASS', 'visible': True, 'editable': True, 'minValues': 1, 'maxValues': 1, 'modes': ['User']}, {'@class': 'org.squonk.options.OptionDescriptor', 'typeDescriptor': {'@class': 'org.squonk.options.SimpleTypeDescriptor', 'type': 'java.lang.Integer'}, 'key': 'query.filterThreshold', 'label': 'Number of violations', 'description': 'Number of violations to accept', 'defaultValue': 1, 'visible': True, 'editable': True, 'minValues': 1, 'maxValues': 1, 'modes': ['User']}, {'@class': 'org.squonk.options.OptionDescriptor', 'typeDescriptor': {'@class': 'org.squonk.options.SimpleTypeDescriptor', 'type': 'org.squonk.types.NumberRange$Float'}, 'key': 'query.ExactMW_RDKit', 'label': 'Mol weight', 'description': 'Molecular weight', 'defaultValue': {'@class': 'org.squonk.types.NumberRange$Float', 'minValue': 0.0, 'maxValue': 500.0}, 'visible': True, 'editable': True, 'minValues': 0, 'maxValues': 1, 'modes': ['User']}, {'@class': 'org.squonk.options.OptionDescriptor', 'typeDescriptor': {'@class': 'org.squonk.options.SimpleTypeDescriptor', 'type': 'org.squonk.types.NumberRange$Float'}, 'key': 'query.LogP_RDKit', 'label': 'LogP', 'description': 'LogP partition coefficient', 'defaultValue': {'@class': 'org.squonk.types.NumberRange$Float', 'maxValue': 5.0}, 'visible': True, 'editable': True, 'minValues': 0, 'maxValues': 1, 'modes': ['User']}, {'@class': 'org.squonk.options.OptionDescriptor', 'typeDescriptor': {'@class': 'org.squonk.options.SimpleTypeDescriptor', 'type': 'org.squonk.types.NumberRange$Integer'}, 'key': 'query.HBD_Lip_RDKit', 'label': 'HBD count', 'description': 'H-bond donor count', 'defaultValue': {'@class': 'org.squonk.types.NumberRange$Integer', 'minValue': 0, 'maxValue': 5}, 'visible': True, 'editable': True, 'minValues': 0, 'maxValues': 1, 'modes': ['User']}, {'@class': 'org.squonk.options.OptionDescriptor', 'typeDescriptor': {'@class': 'org.squonk.options.SimpleTypeDescriptor', 'type': 'org.squonk.types.NumberRange$Integer'}, 'key': 'query.HBA_LIP_RDKit', 'label': 'HBA count', 'description': 'H-bond acceptor count', 'defaultValue': {'@class': 'org.squonk.types.NumberRange$Integer', 'minValue': 0, 'maxValue': 10}, 'visible': True, 'editable': True, 'minValues': 0, 'maxValues': 1, 'modes': ['User']}], 'status': 'ACTIVE', 'statusLastChecked': 1556724197039, 'executorClassName': 'org.squonk.execution.steps.impl.DatasetHttpExecutorStep'}, 'thinDescriptors': [{'input': 'input', 'output': 'output', 'filtering': True}], 'executionEndpoint': 'http://chemservices:8080/chem-services-rdkit-basic/rest/v1/calculators/lipinski'}, 'options': {'filterMode': 'INCLUDE_PASS'}, 'jobId': '372e15df-2933-4e93-8cde-c898b51f3449'}, 'events': []}\n",
      "\n",
      "JobID: 372e15df-2933-4e93-8cde-c898b51f3449\n"
     ]
    }
   ],
   "source": [
    "# The 'Lipinski filter' takes calculates the classical rule of five properties and allows to filter based on these.\n",
    "# We have implementations for ChemAxon and RDKit. Here we use the RDKit one.\n",
    "# The default filter is the classical drug-likeness one defined by Lipinski but you can specify your owwn criteria instaead.\n",
    "# This is one of Squonk's 'HTTP' services.\n",
    "# The job ID is stored in the job_id variable.\n",
    "\n",
    "url = jobexecutor_url + '/rdkit.calculators.lipinski'\n",
    "\n",
    "data = {\n",
    "    'options': '{\"filterMode\":\"INCLUDE_PASS\"}',\n",
    "    'input_data': ('input_data', open('nci10_data.json', 'rb'), 'application/x-squonk-molecule-object+json'),\n",
    "    'input_metadata': ('input_metadata', open('nci10_meta.json', 'rb'), 'application/x-squonk-dataset-metadata+json')\n",
    "}\n",
    "\n",
    "print(\"Requesting POST \" + url)\n",
    "jobs_resp = requests.post(url, files=data, headers = {'Authorization':  'bearer ' + token, 'Content-Type': 'multipart/form'}, verify=tls_verify)\n",
    "print('Response Code: ' + str(jobs_resp.status_code))\n",
    "job_status = jobs_resp.json()\n",
    "job_id = job_status['jobId']\n",
    "print(job_status)\n",
    "print(\"\\nJobID: \" + job_id)"
   ]
  },
  {
   "cell_type": "code",
   "execution_count": 170,
   "metadata": {},
   "outputs": [
    {
     "name": "stdout",
     "output_type": "stream",
     "text": [
      "Response Code: 201\n",
      "{'jobId': 'a802d228-0940-4151-b3ff-5c457103a7d4', 'username': 'user1', 'status': 'RUNNING', 'totalCount': 0, 'processedCount': 0, 'errorCount': 0, 'started': 1556724492478, 'completed': None, 'jobDefinition': {'@class': 'org.squonk.jobdef.ExternalJobDefinition', 'serviceDescriptor': {'@class': 'org.squonk.core.DockerServiceDescriptor', 'serviceConfig': {'id': 'pipelines.rdkit.conformer.basic', 'name': 'RDKitConformers', 'description': 'Generate 3D conformers using RDKit', 'tags': ['rdkit', 'conformer', '3d', 'docker'], 'icon': 'icons/molecule_generator.png', 'inputDescriptors': [{'name': 'input', 'mediaType': 'application/x-squonk-dataset-molecule+json', 'primaryType': 'org.squonk.dataset.Dataset', 'secondaryType': 'org.squonk.types.MoleculeObject'}], 'outputDescriptors': [{'name': 'output', 'mediaType': 'application/x-squonk-dataset-molecule+json', 'primaryType': 'org.squonk.dataset.Dataset', 'secondaryType': 'org.squonk.types.MoleculeObject'}], 'optionDescriptors': [{'@class': 'org.squonk.options.OptionDescriptor', 'typeDescriptor': {'@class': 'org.squonk.options.SimpleTypeDescriptor', 'type': 'java.lang.Integer'}, 'key': 'arg.num', 'label': 'Number of conformers', 'description': 'Number of conformers to aim to generate', 'defaultValue': 1, 'visible': True, 'editable': True, 'minValues': 1, 'maxValues': 1, 'modes': ['User']}, {'@class': 'org.squonk.options.OptionDescriptor', 'typeDescriptor': {'@class': 'org.squonk.options.SimpleTypeDescriptor', 'type': 'java.lang.Integer'}, 'key': 'arg.attempts', 'label': 'Number of attempts', 'description': 'Number of attempts to generate conformers', 'visible': True, 'editable': True, 'minValues': 0, 'maxValues': 1, 'modes': ['User']}, {'@class': 'org.squonk.options.OptionDescriptor', 'typeDescriptor': {'@class': 'org.squonk.options.SimpleTypeDescriptor', 'type': 'java.lang.Float'}, 'key': 'arg.prune', 'label': 'Prune RMSD threshold', 'description': 'Prune RMSD threshold for removing similar conformers', 'visible': True, 'editable': True, 'minValues': 0, 'maxValues': 1, 'modes': ['User']}, {'@class': 'org.squonk.options.OptionDescriptor', 'typeDescriptor': {'@class': 'org.squonk.options.SimpleTypeDescriptor', 'type': 'java.lang.String'}, 'key': 'arg.method', 'label': 'Cluster method', 'description': 'Cluster method (RMSD or TFD)', 'values': ['RMSD', 'TFD'], 'defaultValue': 'RMSD', 'visible': True, 'editable': True, 'minValues': 1, 'maxValues': 1, 'modes': ['User']}, {'@class': 'org.squonk.options.OptionDescriptor', 'typeDescriptor': {'@class': 'org.squonk.options.SimpleTypeDescriptor', 'type': 'java.lang.Float'}, 'key': 'arg.threshold', 'label': 'Cluster threshold', 'description': 'Cluster threshold', 'visible': True, 'editable': True, 'minValues': 0, 'maxValues': 1, 'modes': ['User']}, {'@class': 'org.squonk.options.OptionDescriptor', 'typeDescriptor': {'@class': 'org.squonk.options.SimpleTypeDescriptor', 'type': 'java.lang.Integer'}, 'key': 'arg.minimize', 'label': 'Energy minimization iterations', 'description': 'Number of energy minimization iterations', 'defaultValue': 0, 'visible': True, 'editable': True, 'minValues': 1, 'maxValues': 1, 'modes': ['User']}], 'executorClassName': 'org.squonk.execution.steps.impl.ThinDatasetDockerExecutorStep'}, 'thinDescriptors': [{'input': 'input'}], 'inputRoutes': [{'route': 'FILE'}], 'outputRoutes': [{'route': 'FILE'}], 'imageName': 'informaticsmatters/rdkit_pipelines', 'command': \"python -m pipelines.rdkit.conformers -i ${PIN}input.data.gz -if json -o ${POUT}output -of json -n $num -c $method ${binding.variables.containsKey('attempts') ? ' -a ' + attempts : ''} ${binding.variables.containsKey('prune') ? ' -r ' + prune : ''} ${binding.variables.containsKey('threshold') ? ' -t ' + threshold : ''} ${binding.variables.containsKey('minimize') ? ' -e ' + minimize : ''} --meta\"}, 'options': {'arg.num': 10, 'arg.method': 'RMSD'}, 'jobId': 'a802d228-0940-4151-b3ff-5c457103a7d4'}, 'events': []}\n",
      "\n",
      "JobID: a802d228-0940-4151-b3ff-5c457103a7d4\n"
     ]
    }
   ],
   "source": [
    "# The 'Conformer generator' used RDKit ETKDG conformer generation tool to generate a number of conformers for the input structures.\n",
    "# This is one of Squonk's 'Docker' services.\n",
    "# The job ID is stored in the job_id variable.\n",
    "\n",
    "service_id = 'pipelines.rdkit.conformer.basic'\n",
    "\n",
    "data = {\n",
    "    'options': '{\"arg.num\":10,\"arg.method\":\"RMSD\"}',\n",
    "    'input_data': ('input_data', open('nci10_data.json', 'rb'), 'application/x-squonk-molecule-object+json'),\n",
    "    'input_metadata': ('input_metadata', open('nci10_meta.json', 'rb'), 'application/x-squonk-dataset-metadata+json')\n",
    "}\n",
    "\n",
    "jobs_resp = requests.post(jobexecutor_url + '/' + service_id, files=data, headers = {'Authorization':  'bearer ' + token, 'Content-Type': 'multipart/form'}, verify=tls_verify)\n",
    "print('Response Code: ' + str(jobs_resp.status_code))\n",
    "job_status = jobs_resp.json()\n",
    "job_id = job_status['jobId']\n",
    "print(job_status)\n",
    "print(\"\\nJobID: \" + job_id)"
   ]
  },
  {
   "cell_type": "code",
   "execution_count": 171,
   "metadata": {},
   "outputs": [
    {
     "name": "stdout",
     "output_type": "stream",
     "text": [
      "Response Code: 201\n",
      "{'jobId': '4a67ebdb-603f-4458-99fb-b23263edd176', 'username': 'user1', 'status': 'RUNNING', 'totalCount': 0, 'processedCount': 0, 'errorCount': 0, 'started': 1556724503937, 'completed': None, 'jobDefinition': {'@class': 'org.squonk.jobdef.ExternalJobDefinition', 'serviceDescriptor': {'@class': 'org.squonk.core.NextflowServiceDescriptor', 'serviceConfig': {'id': 'pipelines.rdkit.screen.basic', 'name': 'RDKitSimilarityScreening', 'description': 'RDKit Similarity Screening', 'tags': ['rdkit', 'screening', 'similarity', 'docker', 'nextflow'], 'icon': 'icons/filter_molecules.png', 'inputDescriptors': [{'name': 'input', 'mediaType': 'application/x-squonk-dataset-molecule+json', 'primaryType': 'org.squonk.dataset.Dataset', 'secondaryType': 'org.squonk.types.MoleculeObject'}], 'outputDescriptors': [{'name': 'output', 'mediaType': 'application/x-squonk-dataset-molecule+json', 'primaryType': 'org.squonk.dataset.Dataset', 'secondaryType': 'org.squonk.types.MoleculeObject'}], 'optionDescriptors': [{'@class': 'org.squonk.options.OptionDescriptor', 'typeDescriptor': {'@class': 'org.squonk.options.MoleculeTypeDescriptor', 'molType': 'DISCRETE', 'formats': ['smiles'], 'type': 'org.squonk.options.types.Structure'}, 'key': 'arg.query', 'label': 'Query molecule', 'description': 'Query molecule as smiles', 'visible': True, 'editable': True, 'modes': ['User']}, {'@class': 'org.squonk.options.OptionDescriptor', 'typeDescriptor': {'@class': 'org.squonk.options.SimpleTypeDescriptor', 'type': 'org.squonk.types.NumberRange$Float'}, 'key': 'arg.sim', 'label': 'Similarity', 'description': 'Similarity threshold (1.0 is identical)', 'defaultValue': {'@class': 'org.squonk.types.NumberRange$Float', 'minValue': 0.7, 'maxValue': 1.0}, 'visible': True, 'editable': True, 'modes': ['User']}, {'@class': 'org.squonk.options.OptionDescriptor', 'typeDescriptor': {'@class': 'org.squonk.options.SimpleTypeDescriptor', 'type': 'java.lang.String'}, 'key': 'arg.descriptor', 'label': 'Descriptor', 'description': 'Descriptor/fingerprint to use', 'values': ['maccs', 'morgan2', 'morgan3', 'rdkit'], 'defaultValue': 'rdkit', 'visible': True, 'editable': True, 'modes': ['User']}, {'@class': 'org.squonk.options.OptionDescriptor', 'typeDescriptor': {'@class': 'org.squonk.options.SimpleTypeDescriptor', 'type': 'java.lang.String'}, 'key': 'arg.metric', 'label': 'Metric', 'description': 'Similarity metric to use', 'values': ['asymmetric', 'braunblanquet', 'cosine', 'dice', 'kulczynski', 'mcconnaughey', 'rogotgoldberg', 'russel', 'sokal', 'tanimoto'], 'defaultValue': 'tanimoto', 'visible': True, 'editable': True, 'modes': ['User']}], 'executorClassName': 'org.squonk.execution.steps.impl.ThinDatasetNextflowInDockerExecutorStep'}, 'thinDescriptors': [{'input': 'input', 'output': 'output', 'filtering': True}], 'inputRoutes': [{'route': 'FILE'}], 'outputRoutes': [{'route': 'FILE'}], 'nextflowFile': '#!/usr/bin/env nextflow\\n\\nparams.input = \"$baseDir/input.data.gz\"\\nparams.qsmiles\\nparams.simmin = 0.7\\nparams.simmax = 1.0\\nparams.descriptor = \\'rdkit\\'\\nparams.metric = \\'tanimoto\\'\\nparams.chunk = 2500\\nparams.limit = 0\\nparams.digits = 4\\n\\ntarget = file(params.input)\\n\\nprocess splitter {\\n\\n    container \\'informaticsmatters/rdkit_pipelines:latest\\'\\n\\n    input:\\n    file target\\n\\n    output:\\n    file \\'target_part*.sdf.gz\\' into target_parts mode flatten\\n    file \\'target_part_metrics.txt\\' into splitter_metrics\\n\\n    \"\"\"\\n    python -m pipelines_utils_rdkit.filter -i $target -c $params.chunk -l $params.limit -d $params.digits -o target_part -of sdf --meta\\n    \"\"\"\\n}\\n\\nprocess rdkitScreen {\\n\\n    container \\'informaticsmatters/rdkit_pipelines\\'\\n\\n\\tinput:\\n    file part from target_parts\\n\\n    output:\\n    file \\'screened_part*.sdf.gz\\' into screened_parts\\n\\n    \"\"\"\\n    python -m pipelines.rdkit.screen --qsmiles \\'$params.qsmiles\\' --simmin $params.simmin --simmax $params.simmax -d $params.descriptor -m $params.metric -i $part -o ${part.name.replace(\\'target\\', \\'screened\\')[0..-8]} -of sdf\\n    \"\"\"\\n}\\n\\nprocess joiner {\\n\\n    container \\'informaticsmatters/rdkit_pipelines:latest\\'\\n\\n    publishDir \"$baseDir/results\", mode: \\'move\\'\\n\\n    input:\\n    file \\'splitter_metrics.txt\\' from splitter_metrics\\n\\tfile parts from screened_parts.collect()\\n\\n\\toutput:\\n\\tfile \\'output_metrics.txt\\'\\n\\tfile \\'output.data.gz\\'\\n\\tfile \\'output.metadata\\'\\n\\n\\t\"\"\"\\n\\tzcat $parts | python -m pipelines_utils_rdkit.filter -if sdf -of json -o output --meta\\n\\tmv output_metrics.txt joiner_metrics.txt\\n\\tgrep \\'__InputCount__\\' splitter_metrics.txt | sed s/__InputCount__/RDKitScreen/ > output_metrics.txt\\n    grep \\'__InputCount__\\' splitter_metrics.txt >> output_metrics.txt\\n    grep \\'__OutputCount__\\' joiner_metrics.txt >> output_metrics.txt\\n\\t\"\"\"\\n}\\n', 'nextflowConfig': '// Intentionally Empty', 'nextflowParams': \"params.qsmiles = '$query_source'\\nparams.simmin = $sim.minValue\\nparams.simmax = $sim.maxValue\\nparams.descriptor = '$descriptor'\\nparams.metric = '$metric'\\n\"}, 'options': {'arg.sim': {'maxValue': 1.0, 'minValue': 0.5}, 'arg.query': {'format': 'smiles', 'source': 'CC1=CC(=O)C=CC1=O'}}, 'jobId': '4a67ebdb-603f-4458-99fb-b23263edd176'}, 'events': []}\n",
      "\n",
      "JobID: 4a67ebdb-603f-4458-99fb-b23263edd176\n"
     ]
    }
   ],
   "source": [
    "# Similarity screening using RDKit.\n",
    "# This is one of Squonk's 'Nextflow' services.\n",
    "# The job ID is stored in the job_id variable.\n",
    "\n",
    "# NOTE: THIS IS NOT WORKING AS THE QUERY STRUCTURE IS NOT BEING PASSED CORRECTLY\n",
    "\n",
    "service_id = 'pipelines.rdkit.screen.basic'\n",
    "\n",
    "data = {\n",
    "    'options': '{\"arg.query\":{\"source\":\"CC1=CC(=O)C=CC1=O\",\"format\":\"smiles\"},\"arg.sim\":{\"minValue\":0.5,\"maxValue\":1.0}}',\n",
    "    'input_data': ('input_data', open('nci10_data.json', 'rb'), 'application/x-squonk-molecule-object+json'),\n",
    "    'input_metadata': ('input_metadata', open('nci10_meta.json', 'rb'), 'application/x-squonk-dataset-metadata+json')\n",
    "}\n",
    "\n",
    "jobs_resp = requests.post(jobexecutor_url + '/' + service_id, files=data, headers = {'Authorization':  'bearer ' + token, 'Content-Type': 'multipart/form'}, verify=tls_verify)\n",
    "print('Response Code: ' + str(jobs_resp.status_code))\n",
    "job_status = jobs_resp.json()\n",
    "job_id = job_status['jobId']\n",
    "print(job_status)\n",
    "print(\"\\nJobID: \" + job_id)"
   ]
  },
  {
   "cell_type": "code",
   "execution_count": null,
   "metadata": {},
   "outputs": [],
   "source": []
  }
 ],
 "metadata": {
  "kernelspec": {
   "display_name": "Python 3",
   "language": "python",
   "name": "python3"
  },
  "language_info": {
   "codemirror_mode": {
    "name": "ipython",
    "version": 3
   },
   "file_extension": ".py",
   "mimetype": "text/x-python",
   "name": "python",
   "nbconvert_exporter": "python",
   "pygments_lexer": "ipython3",
   "version": "3.7.2"
  }
 },
 "nbformat": 4,
 "nbformat_minor": 2
}
